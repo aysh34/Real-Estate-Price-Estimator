{
 "cells": [
  {
   "cell_type": "markdown",
   "id": "c5c77519-95c1-4b0d-bae3-cfd780d78c24",
   "metadata": {},
   "source": [
    "# **PricePredictor Pro: A Real Estate Price Estimator**\n",
    "\n",
    "**Author:** Ayesha Saleem  \n",
    "\n",
    "[![GitHub](https://img.shields.io/badge/GitHub-Visit_Profile-181717?style=flat&logo=github&logoColor=white)](https://github.com/aysh34)"
   ]
  },
  {
   "cell_type": "markdown",
   "id": "985f6523-46d8-477b-9e2b-2bfc2bf796b3",
   "metadata": {},
   "source": [
    "## **Problem Statement**\n",
    "Build a regression model that can accurately predict house prices in Bengaluru.\n",
    "\n",
    "## **Data Description**\n",
    "- Area_type - Description of the area\n",
    "- Availability - When it can be possessed or when it is ready\n",
    "- Location - Where it is located in Bengaluru\n",
    "- Size - BHK or Bedrooms\n",
    "- Society - To which society it belongs\n",
    "- Total_sqft - Size of the property in sq.ft\n",
    "- Bath - No. of Bathrooms\n",
    "- Balcony - No. of the Balcony\n",
    "- Price - Value of the property in lakhs (Indian Rupee - ₹)"
   ]
  },
  {
   "cell_type": "code",
   "execution_count": 1,
   "id": "4b3a3534-9468-42ae-a00c-e3d7f3c1c994",
   "metadata": {},
   "outputs": [],
   "source": [
    "import numpy as np \n",
    "import pandas as pd \n",
    "import seaborn as sns\n",
    "import matplotlib.pyplot as plt\n",
    "import warnings\n",
    "warnings.filterwarnings('ignore')"
   ]
  },
  {
   "cell_type": "code",
   "execution_count": 2,
   "id": "4e06414b-b39f-4bcd-ab3b-97ce3fb8a434",
   "metadata": {},
   "outputs": [],
   "source": [
    "df1 = pd.read_csv(\"Bengaluru_House_Data.csv\")"
   ]
  },
  {
   "cell_type": "code",
   "execution_count": 3,
   "id": "c5d9dea1-f188-454f-867b-54001e958c37",
   "metadata": {},
   "outputs": [
    {
     "data": {
      "text/html": [
       "<div>\n",
       "<style scoped>\n",
       "    .dataframe tbody tr th:only-of-type {\n",
       "        vertical-align: middle;\n",
       "    }\n",
       "\n",
       "    .dataframe tbody tr th {\n",
       "        vertical-align: top;\n",
       "    }\n",
       "\n",
       "    .dataframe thead th {\n",
       "        text-align: right;\n",
       "    }\n",
       "</style>\n",
       "<table border=\"1\" class=\"dataframe\">\n",
       "  <thead>\n",
       "    <tr style=\"text-align: right;\">\n",
       "      <th></th>\n",
       "      <th>area_type</th>\n",
       "      <th>availability</th>\n",
       "      <th>location</th>\n",
       "      <th>size</th>\n",
       "      <th>society</th>\n",
       "      <th>total_sqft</th>\n",
       "      <th>bath</th>\n",
       "      <th>balcony</th>\n",
       "      <th>price</th>\n",
       "    </tr>\n",
       "  </thead>\n",
       "  <tbody>\n",
       "    <tr>\n",
       "      <th>0</th>\n",
       "      <td>Super built-up  Area</td>\n",
       "      <td>19-Dec</td>\n",
       "      <td>Electronic City Phase II</td>\n",
       "      <td>2 BHK</td>\n",
       "      <td>Coomee</td>\n",
       "      <td>1056</td>\n",
       "      <td>2.0</td>\n",
       "      <td>1.0</td>\n",
       "      <td>39.07</td>\n",
       "    </tr>\n",
       "    <tr>\n",
       "      <th>1</th>\n",
       "      <td>Plot  Area</td>\n",
       "      <td>Ready To Move</td>\n",
       "      <td>Chikka Tirupathi</td>\n",
       "      <td>4 Bedroom</td>\n",
       "      <td>Theanmp</td>\n",
       "      <td>2600</td>\n",
       "      <td>5.0</td>\n",
       "      <td>3.0</td>\n",
       "      <td>120.00</td>\n",
       "    </tr>\n",
       "    <tr>\n",
       "      <th>2</th>\n",
       "      <td>Built-up  Area</td>\n",
       "      <td>Ready To Move</td>\n",
       "      <td>Uttarahalli</td>\n",
       "      <td>3 BHK</td>\n",
       "      <td>NaN</td>\n",
       "      <td>1440</td>\n",
       "      <td>2.0</td>\n",
       "      <td>3.0</td>\n",
       "      <td>62.00</td>\n",
       "    </tr>\n",
       "    <tr>\n",
       "      <th>3</th>\n",
       "      <td>Super built-up  Area</td>\n",
       "      <td>Ready To Move</td>\n",
       "      <td>Lingadheeranahalli</td>\n",
       "      <td>3 BHK</td>\n",
       "      <td>Soiewre</td>\n",
       "      <td>1521</td>\n",
       "      <td>3.0</td>\n",
       "      <td>1.0</td>\n",
       "      <td>95.00</td>\n",
       "    </tr>\n",
       "    <tr>\n",
       "      <th>4</th>\n",
       "      <td>Super built-up  Area</td>\n",
       "      <td>Ready To Move</td>\n",
       "      <td>Kothanur</td>\n",
       "      <td>2 BHK</td>\n",
       "      <td>NaN</td>\n",
       "      <td>1200</td>\n",
       "      <td>2.0</td>\n",
       "      <td>1.0</td>\n",
       "      <td>51.00</td>\n",
       "    </tr>\n",
       "  </tbody>\n",
       "</table>\n",
       "</div>"
      ],
      "text/plain": [
       "              area_type   availability                  location       size  \\\n",
       "0  Super built-up  Area         19-Dec  Electronic City Phase II      2 BHK   \n",
       "1            Plot  Area  Ready To Move          Chikka Tirupathi  4 Bedroom   \n",
       "2        Built-up  Area  Ready To Move               Uttarahalli      3 BHK   \n",
       "3  Super built-up  Area  Ready To Move        Lingadheeranahalli      3 BHK   \n",
       "4  Super built-up  Area  Ready To Move                  Kothanur      2 BHK   \n",
       "\n",
       "   society total_sqft  bath  balcony   price  \n",
       "0  Coomee        1056   2.0      1.0   39.07  \n",
       "1  Theanmp       2600   5.0      3.0  120.00  \n",
       "2      NaN       1440   2.0      3.0   62.00  \n",
       "3  Soiewre       1521   3.0      1.0   95.00  \n",
       "4      NaN       1200   2.0      1.0   51.00  "
      ]
     },
     "execution_count": 3,
     "metadata": {},
     "output_type": "execute_result"
    }
   ],
   "source": [
    "df1.head()"
   ]
  },
  {
   "cell_type": "code",
   "execution_count": 4,
   "id": "f0daf229-7bdb-42bc-a5b2-6464eb7c1f4e",
   "metadata": {},
   "outputs": [
    {
     "name": "stdout",
     "output_type": "stream",
     "text": [
      "===== BASIC DATASET INFORMATION =====\n",
      "\n",
      "Dataset shape: (13320, 9)\n",
      "\n",
      "===== Column names =====\n",
      "['area_type', 'availability', 'location', 'size', 'society', 'total_sqft', 'bath', 'balcony', 'price']\n",
      "\n",
      "====== Data types =====\n",
      "area_type        object\n",
      "availability     object\n",
      "location         object\n",
      "size             object\n",
      "society          object\n",
      "total_sqft       object\n",
      "bath            float64\n",
      "balcony         float64\n",
      "price           float64\n",
      "dtype: object \n",
      "\n",
      "===== Missing values =====\n",
      "area_type          0\n",
      "availability       0\n",
      "location           1\n",
      "size              16\n",
      "society         5502\n",
      "total_sqft         0\n",
      "bath              73\n",
      "balcony          609\n",
      "price              0\n",
      "dtype: int64\n",
      "\n",
      "===== Missing percentage =====\n",
      "area_type        0.000000\n",
      "availability     0.000000\n",
      "location         0.007508\n",
      "size             0.120120\n",
      "society         41.306306\n",
      "total_sqft       0.000000\n",
      "bath             0.548048\n",
      "balcony          4.572072\n",
      "price            0.000000\n",
      "dtype: float64\n",
      "\n",
      "===== Duplicate rows =====\n",
      "529\n",
      "\n",
      "===== Data Description =====\n",
      "           count        mean         std  min   25%   50%    75%     max\n",
      "bath     13247.0    2.692610    1.341458  1.0   2.0   2.0    3.0    40.0\n",
      "balcony  12711.0    1.584376    0.817263  0.0   1.0   2.0    2.0     3.0\n",
      "price    13320.0  112.565627  148.971674  8.0  50.0  72.0  120.0  3600.0\n"
     ]
    }
   ],
   "source": [
    "# Basic information about our dataset\n",
    "\n",
    "print(\"===== BASIC DATASET INFORMATION =====\\n\")\n",
    "\n",
    "print(f\"Dataset shape: {df1.shape}\")\n",
    "\n",
    "print(f\"\\n===== Column names =====\\n{df1.columns.tolist()}\")\n",
    "\n",
    "print(f\"\\n====== Data types =====\\n{df1.dtypes} \")\n",
    "\n",
    "print(f\"\\n===== Missing values =====\\n{df1.isnull().sum()}\")\n",
    "\n",
    "print(f\"\\n===== Missing percentage =====\\n{(df1.isnull().sum()/len(df1))*100}\")\n",
    "\n",
    "print(f\"\\n===== Duplicate rows =====\\n{df1.duplicated().sum()}\")\n",
    "\n",
    "print(f\"\\n===== Data Description =====\\n{df1.describe().T}\")"
   ]
  },
  {
   "cell_type": "markdown",
   "id": "2d204569-6996-44f2-a1f3-f3337963b830",
   "metadata": {},
   "source": [
    "## **Data Cleaning & Feature Engineering**"
   ]
  },
  {
   "cell_type": "code",
   "execution_count": 5,
   "id": "8fa84e47-3824-4f70-b1a4-dabab8f88e98",
   "metadata": {},
   "outputs": [],
   "source": [
    "df1 = df1.drop_duplicates()"
   ]
  },
  {
   "cell_type": "code",
   "execution_count": 6,
   "id": "4ba5f2d0-ea01-4b6b-9a62-bc19b76ca5fe",
   "metadata": {},
   "outputs": [
    {
     "data": {
      "image/png": "[encoded data removed]",
      "text/plain": [
       "<Figure size 640x480 with 1 Axes>"
      ]
     },
     "metadata": {},
     "output_type": "display_data"
    }
   ],
   "source": [
    "df1['area_type'].value_counts().plot(kind='bar')\n",
    "plt.title('Distribution of Area Type')\n",
    "plt.xlabel('Area Type')\n",
    "plt.ylabel('Count')\n",
    "plt.xticks(rotation=45)\n",
    "plt.tight_layout()\n",
    "plt.show()"
   ]
  },
  {
   "cell_type": "code",
   "execution_count": 7,
   "id": "c7d763d7-751b-4640-8949-a26e74f3fa18",
   "metadata": {},
   "outputs": [
    {
     "data": {
      "image/png": "[encoded data removed]",
      "text/plain": [
       "<Figure size 640x480 with 1 Axes>"
      ]
     },
     "metadata": {},
     "output_type": "display_data"
    }
   ],
   "source": [
    "sns.countplot(x='balcony', data=df1)\n",
    "plt.title('Distribution of Balcony Count')\n",
    "plt.xlabel('Number of Balconies') \n",
    "plt.ylabel('Count')\n",
    "plt.tight_layout()\n",
    "plt.show()"
   ]
  },
  {
   "cell_type": "code",
   "execution_count": 43,
   "id": "be4ca8e7-7c47-4edd-b72e-cf3dbca23b43",
   "metadata": {},
   "outputs": [
    {
     "data": {
      "image/png": "[encoded data removed]",
      "text/plain": [
       "<Figure size 640x480 with 2 Axes>"
      ]
     },
     "metadata": {},
     "output_type": "display_data"
    }
   ],
   "source": [
    "sns.heatmap(df1.corr(numeric_only=True), annot=True, cmap='coolwarm', fmt=\".2f\", linewidths=0.5)\n",
    "plt.title('Correlation Heatmap of Numerical Features')\n",
    "plt.show()"
   ]
  },
  {
   "cell_type": "code",
   "execution_count": 8,
   "id": "402163a3-41cb-4193-a2a1-4d2d5f5003d5",
   "metadata": {},
   "outputs": [],
   "source": [
    "# society has almost 41% null values so drop it, also drop availability,society,area_type\n",
    "df2 = df1.drop(columns=[\"availability\",\"society\",\"area_type\"])"
   ]
  },
  {
   "cell_type": "code",
   "execution_count": 9,
   "id": "6bcb11dc-b796-4e44-9530-5534a328030d",
   "metadata": {},
   "outputs": [
    {
     "data": {
      "text/plain": [
       "location        1\n",
       "size           16\n",
       "total_sqft      0\n",
       "bath           73\n",
       "balcony       605\n",
       "price           0\n",
       "dtype: int64"
      ]
     },
     "execution_count": 9,
     "metadata": {},
     "output_type": "execute_result"
    }
   ],
   "source": [
    "df2.isna().sum()"
   ]
  },
  {
   "cell_type": "code",
   "execution_count": 10,
   "id": "d96e7ef9-7c52-4f15-8d59-48d2b4143411",
   "metadata": {},
   "outputs": [],
   "source": [
    "df2 = df2.dropna(subset=['location', 'size', 'total_sqft', 'bath', 'balcony', 'price'])"
   ]
  },
  {
   "cell_type": "code",
   "execution_count": 11,
   "id": "d4dc5a34-eae2-45f2-a79a-3a0313296712",
   "metadata": {},
   "outputs": [
    {
     "data": {
      "text/plain": [
       "location      0\n",
       "size          0\n",
       "total_sqft    0\n",
       "bath          0\n",
       "balcony       0\n",
       "price         0\n",
       "dtype: int64"
      ]
     },
     "execution_count": 11,
     "metadata": {},
     "output_type": "execute_result"
    }
   ],
   "source": [
    "df2.isna().sum()"
   ]
  },
  {
   "cell_type": "code",
   "execution_count": 12,
   "id": "87fd5b7a-928b-40bf-826e-e8c2022ed35b",
   "metadata": {},
   "outputs": [
    {
     "data": {
      "text/html": [
       "<div>\n",
       "<style scoped>\n",
       "    .dataframe tbody tr th:only-of-type {\n",
       "        vertical-align: middle;\n",
       "    }\n",
       "\n",
       "    .dataframe tbody tr th {\n",
       "        vertical-align: top;\n",
       "    }\n",
       "\n",
       "    .dataframe thead th {\n",
       "        text-align: right;\n",
       "    }\n",
       "</style>\n",
       "<table border=\"1\" class=\"dataframe\">\n",
       "  <thead>\n",
       "    <tr style=\"text-align: right;\">\n",
       "      <th></th>\n",
       "      <th>location</th>\n",
       "      <th>size</th>\n",
       "      <th>total_sqft</th>\n",
       "      <th>bath</th>\n",
       "      <th>balcony</th>\n",
       "      <th>price</th>\n",
       "    </tr>\n",
       "  </thead>\n",
       "  <tbody>\n",
       "    <tr>\n",
       "      <th>0</th>\n",
       "      <td>Electronic City Phase II</td>\n",
       "      <td>2 BHK</td>\n",
       "      <td>1056</td>\n",
       "      <td>2.0</td>\n",
       "      <td>1.0</td>\n",
       "      <td>39.07</td>\n",
       "    </tr>\n",
       "    <tr>\n",
       "      <th>1</th>\n",
       "      <td>Chikka Tirupathi</td>\n",
       "      <td>4 Bedroom</td>\n",
       "      <td>2600</td>\n",
       "      <td>5.0</td>\n",
       "      <td>3.0</td>\n",
       "      <td>120.00</td>\n",
       "    </tr>\n",
       "    <tr>\n",
       "      <th>2</th>\n",
       "      <td>Uttarahalli</td>\n",
       "      <td>3 BHK</td>\n",
       "      <td>1440</td>\n",
       "      <td>2.0</td>\n",
       "      <td>3.0</td>\n",
       "      <td>62.00</td>\n",
       "    </tr>\n",
       "    <tr>\n",
       "      <th>3</th>\n",
       "      <td>Lingadheeranahalli</td>\n",
       "      <td>3 BHK</td>\n",
       "      <td>1521</td>\n",
       "      <td>3.0</td>\n",
       "      <td>1.0</td>\n",
       "      <td>95.00</td>\n",
       "    </tr>\n",
       "    <tr>\n",
       "      <th>4</th>\n",
       "      <td>Kothanur</td>\n",
       "      <td>2 BHK</td>\n",
       "      <td>1200</td>\n",
       "      <td>2.0</td>\n",
       "      <td>1.0</td>\n",
       "      <td>51.00</td>\n",
       "    </tr>\n",
       "  </tbody>\n",
       "</table>\n",
       "</div>"
      ],
      "text/plain": [
       "                   location       size total_sqft  bath  balcony   price\n",
       "0  Electronic City Phase II      2 BHK       1056   2.0      1.0   39.07\n",
       "1          Chikka Tirupathi  4 Bedroom       2600   5.0      3.0  120.00\n",
       "2               Uttarahalli      3 BHK       1440   2.0      3.0   62.00\n",
       "3        Lingadheeranahalli      3 BHK       1521   3.0      1.0   95.00\n",
       "4                  Kothanur      2 BHK       1200   2.0      1.0   51.00"
      ]
     },
     "execution_count": 12,
     "metadata": {},
     "output_type": "execute_result"
    }
   ],
   "source": [
    "df2.head()"
   ]
  },
  {
   "cell_type": "markdown",
   "id": "122fe48a-7547-4373-88d0-11404ac114d7",
   "metadata": {},
   "source": [
    "## **Let's examine each feature one by one**"
   ]
  },
  {
   "cell_type": "markdown",
   "id": "4983164c-287e-423b-981e-a0b9ef598f23",
   "metadata": {},
   "source": [
    "#### LOCATION"
   ]
  },
  {
   "cell_type": "code",
   "execution_count": 13,
   "id": "a260841c-86ed-455e-9cc2-e27300cd89da",
   "metadata": {},
   "outputs": [
    {
     "data": {
      "text/plain": [
       "location\n",
       "Whitefield                         497\n",
       "Sarjapur  Road                     352\n",
       "Electronic City                    285\n",
       "Kanakpura Road                     238\n",
       "Thanisandra                        226\n",
       "                                  ... \n",
       "Byappanahalli                        1\n",
       "Reliable Woods Layout                1\n",
       "Dominic Layout                       1\n",
       "3rd Stage Raja Rajeshwari Nagar      1\n",
       "Jogupalya                            1\n",
       "Name: count, Length: 1265, dtype: int64"
      ]
     },
     "execution_count": 13,
     "metadata": {},
     "output_type": "execute_result"
    }
   ],
   "source": [
    "df2.location.value_counts()"
   ]
  },
  {
   "cell_type": "markdown",
   "id": "6c82b077-da20-4fd8-a9d4-96198965f1eb",
   "metadata": {},
   "source": [
    "##### We need to apply Dimensionality Reduction here to reduce number of locations."
   ]
  },
  {
   "cell_type": "code",
   "execution_count": 14,
   "id": "0a370bff-7891-47fc-a629-340cd90baf5e",
   "metadata": {},
   "outputs": [],
   "source": [
    "df2.location = df2.location.apply(lambda x: x.strip())"
   ]
  },
  {
   "cell_type": "code",
   "execution_count": 15,
   "id": "1399c242-160f-4099-aa83-96a45b907ea6",
   "metadata": {},
   "outputs": [
    {
     "data": {
      "text/plain": [
       "1254"
      ]
     },
     "execution_count": 15,
     "metadata": {},
     "output_type": "execute_result"
    }
   ],
   "source": [
    "# frequency count of each unique location\n",
    "\n",
    "location_counts = df2.location.value_counts()\n",
    "len(location_counts)"
   ]
  },
  {
   "cell_type": "code",
   "execution_count": 16,
   "id": "f9c185e9-a294-47f7-b96e-d83212b45be8",
   "metadata": {},
   "outputs": [
    {
     "data": {
      "text/plain": [
       "location\n",
       "ISRO Layout           10\n",
       "Vasanthapura          10\n",
       "Kodigehalli           10\n",
       "Ganga Nagar           10\n",
       "Narayanapura          10\n",
       "                      ..\n",
       "Sadhguru Layout        1\n",
       "Maheswari Nagar        1\n",
       "Hsr layout sector3     1\n",
       "Thyagraj Nagar         1\n",
       "Banagirinagar          1\n",
       "Name: count, Length: 1027, dtype: int64"
      ]
     },
     "execution_count": 16,
     "metadata": {},
     "output_type": "execute_result"
    }
   ],
   "source": [
    "location_counts[location_counts <= 10]"
   ]
  },
  {
   "cell_type": "code",
   "execution_count": 17,
   "id": "45d093b8-b6e0-49ff-bf2b-ee414a03c5d3",
   "metadata": {},
   "outputs": [],
   "source": [
    "# Grouping Rare Locations(1027 locations with <= 10 entries) as \"other\"\n",
    "\n",
    "location_counts_less_than_10 = location_counts[location_counts <= 10].index.to_list()"
   ]
  },
  {
   "cell_type": "code",
   "execution_count": 18,
   "id": "3e8ce73f-c46d-483c-b271-1f0b1a41492b",
   "metadata": {},
   "outputs": [],
   "source": [
    "df2['location'] = df2['location'].apply(lambda x:\"other\" if x in location_counts_less_than_10 else x)"
   ]
  },
  {
   "cell_type": "code",
   "execution_count": 19,
   "id": "586997a7-f7ab-4fa0-a9c7-7536591eaadf",
   "metadata": {},
   "outputs": [
    {
     "data": {
      "text/plain": [
       "228"
      ]
     },
     "execution_count": 19,
     "metadata": {},
     "output_type": "execute_result"
    }
   ],
   "source": [
    "len(df2.location.value_counts())"
   ]
  },
  {
   "cell_type": "code",
   "execution_count": 20,
   "id": "d2826420-343e-4043-8098-eb7084ff2423",
   "metadata": {},
   "outputs": [
    {
     "data": {
      "text/html": [
       "<div>\n",
       "<style scoped>\n",
       "    .dataframe tbody tr th:only-of-type {\n",
       "        vertical-align: middle;\n",
       "    }\n",
       "\n",
       "    .dataframe tbody tr th {\n",
       "        vertical-align: top;\n",
       "    }\n",
       "\n",
       "    .dataframe thead th {\n",
       "        text-align: right;\n",
       "    }\n",
       "</style>\n",
       "<table border=\"1\" class=\"dataframe\">\n",
       "  <thead>\n",
       "    <tr style=\"text-align: right;\">\n",
       "      <th></th>\n",
       "      <th>location</th>\n",
       "      <th>size</th>\n",
       "      <th>total_sqft</th>\n",
       "      <th>bath</th>\n",
       "      <th>balcony</th>\n",
       "      <th>price</th>\n",
       "    </tr>\n",
       "  </thead>\n",
       "  <tbody>\n",
       "    <tr>\n",
       "      <th>1715</th>\n",
       "      <td>other</td>\n",
       "      <td>2 BHK</td>\n",
       "      <td>1000</td>\n",
       "      <td>2.0</td>\n",
       "      <td>1.0</td>\n",
       "      <td>50.00</td>\n",
       "    </tr>\n",
       "    <tr>\n",
       "      <th>2856</th>\n",
       "      <td>Ambalipura</td>\n",
       "      <td>2 BHK</td>\n",
       "      <td>1250</td>\n",
       "      <td>2.0</td>\n",
       "      <td>2.0</td>\n",
       "      <td>66.25</td>\n",
       "    </tr>\n",
       "    <tr>\n",
       "      <th>3241</th>\n",
       "      <td>Attibele</td>\n",
       "      <td>4 Bedroom</td>\n",
       "      <td>3640</td>\n",
       "      <td>4.0</td>\n",
       "      <td>1.0</td>\n",
       "      <td>275.00</td>\n",
       "    </tr>\n",
       "  </tbody>\n",
       "</table>\n",
       "</div>"
      ],
      "text/plain": [
       "        location       size total_sqft  bath  balcony   price\n",
       "1715       other      2 BHK       1000   2.0      1.0   50.00\n",
       "2856  Ambalipura      2 BHK       1250   2.0      2.0   66.25\n",
       "3241    Attibele  4 Bedroom       3640   4.0      1.0  275.00"
      ]
     },
     "execution_count": 20,
     "metadata": {},
     "output_type": "execute_result"
    }
   ],
   "source": [
    "df2.sample(3)"
   ]
  },
  {
   "cell_type": "markdown",
   "id": "ae5bbda1-06c9-441d-9e27-079a85176489",
   "metadata": {},
   "source": [
    "1254 unique locations in location column (before grouping) vs 228 unique locations in location column (after grouping)"
   ]
  },
  {
   "cell_type": "markdown",
   "id": "5bc6e174-e8f2-45ad-bb67-9ff5bfefbfd7",
   "metadata": {},
   "source": [
    "#### SIZE"
   ]
  },
  {
   "cell_type": "code",
   "execution_count": 21,
   "id": "d1e3ef4e-e1d5-4748-b395-9bd5e476fdbc",
   "metadata": {},
   "outputs": [
    {
     "data": {
      "text/plain": [
       "0            2 BHK\n",
       "1        4 Bedroom\n",
       "2            3 BHK\n",
       "3            3 BHK\n",
       "4            2 BHK\n",
       "           ...    \n",
       "13312        2 BHK\n",
       "13314        3 BHK\n",
       "13315    5 Bedroom\n",
       "13317        2 BHK\n",
       "13318        4 BHK\n",
       "Name: size, Length: 12185, dtype: object"
      ]
     },
     "execution_count": 21,
     "metadata": {},
     "output_type": "execute_result"
    }
   ],
   "source": [
    "df2['size']"
   ]
  },
  {
   "cell_type": "code",
   "execution_count": 22,
   "id": "1bc30439-990b-420f-9620-fbdcd2edfba2",
   "metadata": {},
   "outputs": [],
   "source": [
    "# I am going to create a 'BHK' column from existing 'size' column because of inconsistencies in the size column\n",
    "\n",
    "df3 = df2.copy()\n",
    "df3['BHK'] = df3['size'].apply(lambda x: x.split(\" \")[0])"
   ]
  },
  {
   "cell_type": "code",
   "execution_count": 23,
   "id": "1d7ff14d-7e24-4641-927f-fa3dd8941c8b",
   "metadata": {},
   "outputs": [
    {
     "data": {
      "text/html": [
       "<div>\n",
       "<style scoped>\n",
       "    .dataframe tbody tr th:only-of-type {\n",
       "        vertical-align: middle;\n",
       "    }\n",
       "\n",
       "    .dataframe tbody tr th {\n",
       "        vertical-align: top;\n",
       "    }\n",
       "\n",
       "    .dataframe thead th {\n",
       "        text-align: right;\n",
       "    }\n",
       "</style>\n",
       "<table border=\"1\" class=\"dataframe\">\n",
       "  <thead>\n",
       "    <tr style=\"text-align: right;\">\n",
       "      <th></th>\n",
       "      <th>location</th>\n",
       "      <th>size</th>\n",
       "      <th>total_sqft</th>\n",
       "      <th>bath</th>\n",
       "      <th>balcony</th>\n",
       "      <th>price</th>\n",
       "      <th>BHK</th>\n",
       "    </tr>\n",
       "  </thead>\n",
       "  <tbody>\n",
       "    <tr>\n",
       "      <th>0</th>\n",
       "      <td>Electronic City Phase II</td>\n",
       "      <td>2 BHK</td>\n",
       "      <td>1056</td>\n",
       "      <td>2.0</td>\n",
       "      <td>1.0</td>\n",
       "      <td>39.07</td>\n",
       "      <td>2</td>\n",
       "    </tr>\n",
       "    <tr>\n",
       "      <th>1</th>\n",
       "      <td>Chikka Tirupathi</td>\n",
       "      <td>4 Bedroom</td>\n",
       "      <td>2600</td>\n",
       "      <td>5.0</td>\n",
       "      <td>3.0</td>\n",
       "      <td>120.00</td>\n",
       "      <td>4</td>\n",
       "    </tr>\n",
       "    <tr>\n",
       "      <th>2</th>\n",
       "      <td>Uttarahalli</td>\n",
       "      <td>3 BHK</td>\n",
       "      <td>1440</td>\n",
       "      <td>2.0</td>\n",
       "      <td>3.0</td>\n",
       "      <td>62.00</td>\n",
       "      <td>3</td>\n",
       "    </tr>\n",
       "    <tr>\n",
       "      <th>3</th>\n",
       "      <td>Lingadheeranahalli</td>\n",
       "      <td>3 BHK</td>\n",
       "      <td>1521</td>\n",
       "      <td>3.0</td>\n",
       "      <td>1.0</td>\n",
       "      <td>95.00</td>\n",
       "      <td>3</td>\n",
       "    </tr>\n",
       "    <tr>\n",
       "      <th>4</th>\n",
       "      <td>Kothanur</td>\n",
       "      <td>2 BHK</td>\n",
       "      <td>1200</td>\n",
       "      <td>2.0</td>\n",
       "      <td>1.0</td>\n",
       "      <td>51.00</td>\n",
       "      <td>2</td>\n",
       "    </tr>\n",
       "  </tbody>\n",
       "</table>\n",
       "</div>"
      ],
      "text/plain": [
       "                   location       size total_sqft  bath  balcony   price BHK\n",
       "0  Electronic City Phase II      2 BHK       1056   2.0      1.0   39.07   2\n",
       "1          Chikka Tirupathi  4 Bedroom       2600   5.0      3.0  120.00   4\n",
       "2               Uttarahalli      3 BHK       1440   2.0      3.0   62.00   3\n",
       "3        Lingadheeranahalli      3 BHK       1521   3.0      1.0   95.00   3\n",
       "4                  Kothanur      2 BHK       1200   2.0      1.0   51.00   2"
      ]
     },
     "execution_count": 23,
     "metadata": {},
     "output_type": "execute_result"
    }
   ],
   "source": [
    "df3.head()"
   ]
  },
  {
   "cell_type": "markdown",
   "id": "e0e5975d-3881-4ed7-b2bc-0063f5ed5f0c",
   "metadata": {},
   "source": [
    "#### TOTAL-SQFT"
   ]
  },
  {
   "cell_type": "code",
   "execution_count": 24,
   "id": "8665c10e-cacd-4ba3-900b-a640c661dbea",
   "metadata": {},
   "outputs": [
    {
     "data": {
      "text/plain": [
       "Index(['1200', '1100', '1500', '2400', '600', '1000', '1350', '1050', '1300',\n",
       "       '1250',\n",
       "       ...\n",
       "       '167Sq. Meter', '1379', '1648', '2872', '1331.95', '6688', '2920',\n",
       "       '1369', '1200 - 1470', '1557'],\n",
       "      dtype='object', name='total_sqft', length=1976)"
      ]
     },
     "execution_count": 24,
     "metadata": {},
     "output_type": "execute_result"
    }
   ],
   "source": [
    "df3['total_sqft'].value_counts().index"
   ]
  },
  {
   "cell_type": "markdown",
   "id": "5301b4df-ddb6-451b-b8e1-1686e9e9da9b",
   "metadata": {},
   "source": [
    "There are a lot of inconsistencies in this column, we first have to tackle this."
   ]
  },
  {
   "cell_type": "code",
   "execution_count": 25,
   "id": "1b4da8e4-8a81-4b9d-877c-40ef7bbd4197",
   "metadata": {},
   "outputs": [],
   "source": [
    "def clean_total_sqft(x):\n",
    "    try:\n",
    "        if '-' in x:\n",
    "            x = x.split('-')\n",
    "            if len(x) == 2:\n",
    "                return (float(x[0]) + float(x[1]))/2\n",
    "        return float(x)\n",
    "    except:\n",
    "        num = '' # to handle '167Sq. Meter' or '1331.95'\n",
    "        for ch in x:\n",
    "            if ch.isdigit() or ch == '.':\n",
    "                num += ch\n",
    "            else:\n",
    "                break\n",
    "        try: \n",
    "            return float(num)\n",
    "        except:\n",
    "            return None"
   ]
  },
  {
   "cell_type": "code",
   "execution_count": 26,
   "id": "a1782676-42d7-4901-8581-c6053f8cf70b",
   "metadata": {},
   "outputs": [],
   "source": [
    "df3['total_sqft'] = df3['total_sqft'].apply(clean_total_sqft)"
   ]
  },
  {
   "cell_type": "code",
   "execution_count": 27,
   "id": "a2f2e3c4-5615-42d7-a94a-09b6397589c6",
   "metadata": {},
   "outputs": [
    {
     "data": {
      "text/plain": [
       "0        1056.0\n",
       "1        2600.0\n",
       "2        1440.0\n",
       "3        1521.0\n",
       "4        1200.0\n",
       "          ...  \n",
       "13312    1262.0\n",
       "13314    1715.0\n",
       "13315    3453.0\n",
       "13317    1141.0\n",
       "13318    4689.0\n",
       "Name: total_sqft, Length: 12185, dtype: float64"
      ]
     },
     "execution_count": 27,
     "metadata": {},
     "output_type": "execute_result"
    }
   ],
   "source": [
    "df3['total_sqft']"
   ]
  },
  {
   "cell_type": "markdown",
   "id": "7a7dd835-0e6b-4393-b4e0-eb40177e4fd1",
   "metadata": {},
   "source": [
    "#### Price"
   ]
  },
  {
   "cell_type": "code",
   "execution_count": 28,
   "id": "36289dcf-d66b-41ed-95bb-dcc2e3023a9e",
   "metadata": {},
   "outputs": [
    {
     "data": {
      "text/plain": [
       "Index([  75.0,   65.0,   55.0,   60.0,   45.0,   50.0,   70.0,   85.0,   90.0,\n",
       "         80.0,\n",
       "       ...\n",
       "        71.58, 59.135,  49.53,  293.0,  64.99,   43.7,  44.75, 2800.0,   72.3,\n",
       "        57.95],\n",
       "      dtype='float64', name='price', length=1924)"
      ]
     },
     "execution_count": 28,
     "metadata": {},
     "output_type": "execute_result"
    }
   ],
   "source": [
    "df3['price'].value_counts().index"
   ]
  },
  {
   "cell_type": "code",
   "execution_count": 29,
   "id": "bcf55bc7-9d80-461b-9269-59f4378e8b22",
   "metadata": {},
   "outputs": [
    {
     "data": {
      "text/plain": [
       "count    12185.000000\n",
       "mean       107.631297\n",
       "std        134.022372\n",
       "min          8.000000\n",
       "25%         50.000000\n",
       "50%         70.000000\n",
       "75%        115.000000\n",
       "max       2912.000000\n",
       "Name: price, dtype: float64"
      ]
     },
     "execution_count": 29,
     "metadata": {},
     "output_type": "execute_result"
    }
   ],
   "source": [
    "df3['price'].describe()"
   ]
  },
  {
   "cell_type": "code",
   "execution_count": 30,
   "id": "aff21ed7-fc72-4209-a97c-a63b7e5a9cc2",
   "metadata": {},
   "outputs": [
    {
     "data": {
      "image/png": "[encoded data removed]",
      "text/plain": [
       "<Figure size 1000x500 with 1 Axes>"
      ]
     },
     "metadata": {},
     "output_type": "display_data"
    }
   ],
   "source": [
    "plt.figure(figsize=(10,5))\n",
    "plt.hist(df3['price'], bins=100)\n",
    "plt.title(\"Price Distribution (Lakhs)\")\n",
    "plt.xlabel(\"Price\")\n",
    "plt.ylabel(\"No. of Houses\")\n",
    "plt.show()"
   ]
  },
  {
   "cell_type": "code",
   "execution_count": 31,
   "id": "815b153f-2379-42f2-82aa-0c02621906fc",
   "metadata": {},
   "outputs": [
    {
     "data": {
      "image/png": "[encoded data removed]",
      "text/plain": [
       "<Figure size 1000x500 with 1 Axes>"
      ]
     },
     "metadata": {},
     "output_type": "display_data"
    }
   ],
   "source": [
    "# core distribution without extreme outliers\n",
    "\n",
    "plt.figure(figsize=(10,5))\n",
    "plt.hist(df3[df3['price'] <= 500]['price'], bins=100)\n",
    "plt.title(\"Price Distribution (Lakhs)\")\n",
    "plt.xlabel(\"Price\")\n",
    "plt.ylabel(\"No. of Houses\")\n",
    "plt.show()"
   ]
  },
  {
   "cell_type": "markdown",
   "id": "3030bcca-c339-4e02-b8de-87a8f5458167",
   "metadata": {},
   "source": [
    "Prices like 2912.000000 Cr are not common residential data (likely outliers). Regression models (especially Linear) get skewed due to these. So, its better to clip or remove such rare values if they aren't the norm."
   ]
  },
  {
   "cell_type": "code",
   "execution_count": 32,
   "id": "b8171a07-4a52-4899-8dbc-635986c8192f",
   "metadata": {},
   "outputs": [
    {
     "data": {
      "text/plain": [
       "(12185, 7)"
      ]
     },
     "execution_count": 32,
     "metadata": {},
     "output_type": "execute_result"
    }
   ],
   "source": [
    "df3.shape"
   ]
  },
  {
   "cell_type": "code",
   "execution_count": 33,
   "id": "b793f4cf-5552-4e33-b32b-822de8840e5d",
   "metadata": {},
   "outputs": [
    {
     "data": {
      "text/plain": [
       "31"
      ]
     },
     "execution_count": 33,
     "metadata": {},
     "output_type": "execute_result"
    }
   ],
   "source": [
    "# Homes more than ₹10 Cr = 1000 Lakhs\n",
    "\n",
    "len(df3[df3['price'] > 1000])"
   ]
  },
  {
   "cell_type": "code",
   "execution_count": 34,
   "id": "a1d476a3-262c-47af-baa3-6ac310379dd0",
   "metadata": {},
   "outputs": [],
   "source": [
    "# let's keeps only rows where price is less than or equal to ₹1000 lakhs (₹10 crore)\n",
    "df4 = df3.copy()\n",
    "df4 = df4[df4['price'] <= 1000]"
   ]
  },
  {
   "cell_type": "code",
   "execution_count": 35,
   "id": "045e28b7-d888-4f01-87fd-070661718f42",
   "metadata": {},
   "outputs": [
    {
     "data": {
      "text/plain": [
       "(12154, 7)"
      ]
     },
     "execution_count": 35,
     "metadata": {},
     "output_type": "execute_result"
    }
   ],
   "source": [
    "df4.shape"
   ]
  },
  {
   "cell_type": "code",
   "execution_count": 36,
   "id": "9bf8ff55-3aff-40e1-a5bc-72dc719f3a5b",
   "metadata": {},
   "outputs": [
    {
     "data": {
      "image/png": "[encoded data removed]",
      "text/plain": [
       "<Figure size 1000x500 with 1 Axes>"
      ]
     },
     "metadata": {},
     "output_type": "display_data"
    }
   ],
   "source": [
    "plt.figure(figsize=(10,5))\n",
    "plt.hist(df4['price'], bins=100)\n",
    "plt.title(\"Price Distribution (Lakhs)\")\n",
    "plt.xlabel(\"Price\")\n",
    "plt.ylabel(\"No. of Houses\")\n",
    "plt.show()"
   ]
  },
  {
   "cell_type": "markdown",
   "id": "0337dafb-8e1d-44c3-922d-f633d92a6568",
   "metadata": {},
   "source": [
    "Here, I am adding a new feature called Price per Square Feet"
   ]
  },
  {
   "cell_type": "code",
   "execution_count": 37,
   "id": "defdc99c-58f6-4fe9-8702-210c678bb3ef",
   "metadata": {},
   "outputs": [],
   "source": [
    "df5 = df4.copy()\n",
    "df5['price_per_sqft (INR)'] = df5['price']* 100000 / df5['total_sqft']"
   ]
  },
  {
   "cell_type": "code",
   "execution_count": 38,
   "id": "b242dc2c-bca1-47fc-8956-0b5d1aafe057",
   "metadata": {},
   "outputs": [
    {
     "data": {
      "text/html": [
       "<div>\n",
       "<style scoped>\n",
       "    .dataframe tbody tr th:only-of-type {\n",
       "        vertical-align: middle;\n",
       "    }\n",
       "\n",
       "    .dataframe tbody tr th {\n",
       "        vertical-align: top;\n",
       "    }\n",
       "\n",
       "    .dataframe thead th {\n",
       "        text-align: right;\n",
       "    }\n",
       "</style>\n",
       "<table border=\"1\" class=\"dataframe\">\n",
       "  <thead>\n",
       "    <tr style=\"text-align: right;\">\n",
       "      <th></th>\n",
       "      <th>location</th>\n",
       "      <th>size</th>\n",
       "      <th>total_sqft</th>\n",
       "      <th>bath</th>\n",
       "      <th>balcony</th>\n",
       "      <th>price</th>\n",
       "      <th>BHK</th>\n",
       "      <th>price_per_sqft (INR)</th>\n",
       "    </tr>\n",
       "  </thead>\n",
       "  <tbody>\n",
       "    <tr>\n",
       "      <th>0</th>\n",
       "      <td>Electronic City Phase II</td>\n",
       "      <td>2 BHK</td>\n",
       "      <td>1056.0</td>\n",
       "      <td>2.0</td>\n",
       "      <td>1.0</td>\n",
       "      <td>39.07</td>\n",
       "      <td>2</td>\n",
       "      <td>3699.810606</td>\n",
       "    </tr>\n",
       "    <tr>\n",
       "      <th>1</th>\n",
       "      <td>Chikka Tirupathi</td>\n",
       "      <td>4 Bedroom</td>\n",
       "      <td>2600.0</td>\n",
       "      <td>5.0</td>\n",
       "      <td>3.0</td>\n",
       "      <td>120.00</td>\n",
       "      <td>4</td>\n",
       "      <td>4615.384615</td>\n",
       "    </tr>\n",
       "    <tr>\n",
       "      <th>2</th>\n",
       "      <td>Uttarahalli</td>\n",
       "      <td>3 BHK</td>\n",
       "      <td>1440.0</td>\n",
       "      <td>2.0</td>\n",
       "      <td>3.0</td>\n",
       "      <td>62.00</td>\n",
       "      <td>3</td>\n",
       "      <td>4305.555556</td>\n",
       "    </tr>\n",
       "    <tr>\n",
       "      <th>3</th>\n",
       "      <td>Lingadheeranahalli</td>\n",
       "      <td>3 BHK</td>\n",
       "      <td>1521.0</td>\n",
       "      <td>3.0</td>\n",
       "      <td>1.0</td>\n",
       "      <td>95.00</td>\n",
       "      <td>3</td>\n",
       "      <td>6245.890861</td>\n",
       "    </tr>\n",
       "    <tr>\n",
       "      <th>4</th>\n",
       "      <td>Kothanur</td>\n",
       "      <td>2 BHK</td>\n",
       "      <td>1200.0</td>\n",
       "      <td>2.0</td>\n",
       "      <td>1.0</td>\n",
       "      <td>51.00</td>\n",
       "      <td>2</td>\n",
       "      <td>4250.000000</td>\n",
       "    </tr>\n",
       "  </tbody>\n",
       "</table>\n",
       "</div>"
      ],
      "text/plain": [
       "                   location       size  total_sqft  bath  balcony   price BHK  \\\n",
       "0  Electronic City Phase II      2 BHK      1056.0   2.0      1.0   39.07   2   \n",
       "1          Chikka Tirupathi  4 Bedroom      2600.0   5.0      3.0  120.00   4   \n",
       "2               Uttarahalli      3 BHK      1440.0   2.0      3.0   62.00   3   \n",
       "3        Lingadheeranahalli      3 BHK      1521.0   3.0      1.0   95.00   3   \n",
       "4                  Kothanur      2 BHK      1200.0   2.0      1.0   51.00   2   \n",
       "\n",
       "   price_per_sqft (INR)  \n",
       "0           3699.810606  \n",
       "1           4615.384615  \n",
       "2           4305.555556  \n",
       "3           6245.890861  \n",
       "4           4250.000000  "
      ]
     },
     "execution_count": 38,
     "metadata": {},
     "output_type": "execute_result"
    }
   ],
   "source": [
    "df5.head()"
   ]
  },
  {
   "cell_type": "code",
   "execution_count": null,
   "id": "ff18a6c0-7b9f-47cd-bbca-7498f5a16c02",
   "metadata": {},
   "outputs": [],
   "source": []
  }
 ],
 "metadata": {
  "kernelspec": {
   "display_name": "Python [conda env:base] *",
   "language": "python",
   "name": "conda-base-py"
  },
  "language_info": {
   "codemirror_mode": {
    "name": "ipython",
    "version": 3
   },
   "file_extension": ".py",
   "mimetype": "text/x-python",
   "name": "python",
   "nbconvert_exporter": "python",
   "pygments_lexer": "ipython3",
   "version": "3.13.5"
  }
 },
 "nbformat": 4,
 "nbformat_minor": 5
}
